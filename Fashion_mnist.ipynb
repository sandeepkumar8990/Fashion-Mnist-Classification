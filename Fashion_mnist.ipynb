{
  "nbformat": 4,
  "nbformat_minor": 0,
  "metadata": {
    "colab": {
      "name": "Fashion_mnist.ipynb",
      "provenance": []
    },
    "kernelspec": {
      "name": "python3",
      "display_name": "Python 3"
    },
    "accelerator": "GPU"
  },
  "cells": [
    {
      "cell_type": "markdown",
      "metadata": {
        "id": "U8MlbH3Pp0CD"
      },
      "source": [
        "#**Fashion-MNIST**\n",
        "\n",
        "1) Fashion-MNIST is a dataset of Zalando's article images—consisting of a training set of 60,000 examples and a test set of 10,000 examples.\n",
        "\n",
        "2) Each example is a 28x28 grayscale image, associated with a label from 10 classes.\n",
        "\n",
        "3) Zalando intends Fashion-MNIST to serve as a direct drop-in replacement for the original MNIST dataset for benchmarking machine learning algorithms.\n",
        "\n",
        "4) It shares the same image size and structure of training and testing splits."
      ]
    },
    {
      "cell_type": "code",
      "metadata": {
        "id": "JhjmzPq9a6lI"
      },
      "source": [
        "#importing libraries\n",
        "from keras.datasets import fashion_mnist\n",
        "import numpy as np\n",
        "import matplotlib.pyplot as plt\n",
        "%matplotlib inline\n",
        "\n",
        "#importing the keras libraries\n",
        "import keras\n",
        "from keras.models import Model, Sequential\n",
        "from keras.layers import Flatten, Dense, Dropout\n",
        "from keras.layers import Convolution2D, MaxPooling2D\n",
        "from keras.layers import BatchNormalization, GlobalAveragePooling2D\n",
        "from keras.utils import to_categorical\n",
        "from keras.optimizers import Adam\n",
        "from keras.losses import categorical_crossentropy\n",
        "from keras.utils import to_categorical\n",
        "import warnings\n",
        "warnings.filterwarnings(\"ignore\")"
      ],
      "execution_count": 1,
      "outputs": []
    },
    {
      "cell_type": "code",
      "metadata": {
        "id": "hLTr_mrzbZ8O",
        "outputId": "21124f2e-dae1-49d6-9fbd-1b4786acc399",
        "colab": {
          "base_uri": "https://localhost:8080/",
          "height": 151
        }
      },
      "source": [
        "# READING THE MNIST DATASET\n",
        "(x_train, y_train), (x_test, y_test) = fashion_mnist.load_data()"
      ],
      "execution_count": 2,
      "outputs": [
        {
          "output_type": "stream",
          "text": [
            "Downloading data from https://storage.googleapis.com/tensorflow/tf-keras-datasets/train-labels-idx1-ubyte.gz\n",
            "32768/29515 [=================================] - 0s 0us/step\n",
            "Downloading data from https://storage.googleapis.com/tensorflow/tf-keras-datasets/train-images-idx3-ubyte.gz\n",
            "26427392/26421880 [==============================] - 0s 0us/step\n",
            "Downloading data from https://storage.googleapis.com/tensorflow/tf-keras-datasets/t10k-labels-idx1-ubyte.gz\n",
            "8192/5148 [===============================================] - 0s 0us/step\n",
            "Downloading data from https://storage.googleapis.com/tensorflow/tf-keras-datasets/t10k-images-idx3-ubyte.gz\n",
            "4423680/4422102 [==============================] - 0s 0us/step\n"
          ],
          "name": "stdout"
        }
      ]
    },
    {
      "cell_type": "code",
      "metadata": {
        "id": "0RC1FIGAbZ_G",
        "outputId": "68728fd4-7af6-46cb-c976-66619a7bd414",
        "colab": {
          "base_uri": "https://localhost:8080/",
          "height": 50
        }
      },
      "source": [
        "#checking the shape of the data.\n",
        "print(x_train.shape)\n",
        "print(x_test.shape)"
      ],
      "execution_count": 3,
      "outputs": [
        {
          "output_type": "stream",
          "text": [
            "(60000, 28, 28)\n",
            "(10000, 28, 28)\n"
          ],
          "name": "stdout"
        }
      ]
    },
    {
      "cell_type": "markdown",
      "metadata": {
        "id": "uMU-lxrNsDAi"
      },
      "source": [
        "\n",
        "*   So, there are 60,000 Training Samples and 10,000 Test Samples.\n",
        "*   Each example is a 28x28 grayscale image, associated with a label  from 10 classes.\n",
        "*   Each example is a 28x28 grayscale image, associated with a label from 10 classes.\n",
        "*  Each pixel has a single pixel-value associated with it, indicating the lightness or darkness of that pixel, with higher numbers meaning darker.\n",
        "* This pixel-value is an integer between 0 and 255, inclusive."
      ]
    },
    {
      "cell_type": "code",
      "metadata": {
        "id": "vZrUiR7AbaBs",
        "outputId": "369985b2-ceba-44d8-9dbd-67979aca25ec",
        "colab": {
          "base_uri": "https://localhost:8080/",
          "height": 801
        }
      },
      "source": [
        "#Ploting the sample images.\n",
        "for i in range(8):\n",
        "  plt.subplot(330+1+i)\n",
        "  plt.imshow(x_train[i])\n",
        "  plt.show() "
      ],
      "execution_count": 21,
      "outputs": [
        {
          "output_type": "display_data",
          "data": {
            "image/png": "[encoded data removed]",
            "text/plain": [
              "<Figure size 432x288 with 1 Axes>"
            ]
          },
          "metadata": {
            "tags": [],
            "needs_background": "light"
          }
        },
        {
          "output_type": "display_data",
          "data": {
            "image/png": "[encoded data removed]",
            "text/plain": [
              "<Figure size 432x288 with 1 Axes>"
            ]
          },
          "metadata": {
            "tags": [],
            "needs_background": "light"
          }
        },
        {
          "output_type": "display_data",
          "data": {
            "image/png": "[encoded data removed]",
            "text/plain": [
              "<Figure size 432x288 with 1 Axes>"
            ]
          },
          "metadata": {
            "tags": [],
            "needs_background": "light"
          }
        },
        {
          "output_type": "display_data",
          "data": {
            "image/png": "[encoded data removed]",
            "text/plain": [
              "<Figure size 432x288 with 1 Axes>"
            ]
          },
          "metadata": {
            "tags": [],
            "needs_background": "light"
          }
        },
        {
          "output_type": "display_data",
          "data": {
            "image/png": "[encoded data removed]",
            "text/plain": [
              "<Figure size 432x288 with 1 Axes>"
            ]
          },
          "metadata": {
            "tags": [],
            "needs_background": "light"
          }
        },
        {
          "output_type": "display_data",
          "data": {
            "image/png": "[encoded data removed]",
            "text/plain": [
              "<Figure size 432x288 with 1 Axes>"
            ]
          },
          "metadata": {
            "tags": [],
            "needs_background": "light"
          }
        },
        {
          "output_type": "display_data",
          "data": {
            "image/png": "[encoded data removed]",
            "text/plain": [
              "<Figure size 432x288 with 1 Axes>"
            ]
          },
          "metadata": {
            "tags": [],
            "needs_background": "light"
          }
        },
        {
          "output_type": "display_data",
          "data": {
            "image/png": "[encoded data removed]",
            "text/plain": [
              "<Figure size 432x288 with 1 Axes>"
            ]
          },
          "metadata": {
            "tags": [],
            "needs_background": "light"
          }
        }
      ]
    },
    {
      "cell_type": "code",
      "metadata": {
        "id": "hU9ox2SpbaEJ",
        "outputId": "bc369cbb-3141-47a8-f4a7-a8dc1301f762",
        "colab": {
          "base_uri": "https://localhost:8080/",
          "height": 34
        }
      },
      "source": [
        "np.unique(y_train)"
      ],
      "execution_count": 27,
      "outputs": [
        {
          "output_type": "execute_result",
          "data": {
            "text/plain": [
              "array([0, 1, 2, 3, 4, 5, 6, 7, 8, 9], dtype=uint8)"
            ]
          },
          "metadata": {
            "tags": []
          },
          "execution_count": 27
        }
      ]
    },
    {
      "cell_type": "markdown",
      "metadata": {
        "id": "B1Z8AQVVq0re"
      },
      "source": [
        "**Labels** :\n",
        "\n",
        "0 - T-shirt/top\n",
        "\n",
        "1 - Trouser\n",
        "\n",
        "2 - Pullover\n",
        "\n",
        "3 - Dress\n",
        "\n",
        "4 - Coat\n",
        "\n",
        "5 - Sandals\n",
        "\n",
        "6 - Shirt\n",
        "\n",
        "7 - Sneaker\n",
        "\n",
        "8 - Bag\n",
        "\n",
        "9 - Ankle Boots"
      ]
    },
    {
      "cell_type": "code",
      "metadata": {
        "id": "uiTbzq8JbaG3",
        "outputId": "c9dde665-ea57-4a8b-8a03-91944060361b",
        "colab": {
          "base_uri": "https://localhost:8080/",
          "height": 34
        }
      },
      "source": [
        "np.isnan(x_train).sum()"
      ],
      "execution_count": 38,
      "outputs": [
        {
          "output_type": "execute_result",
          "data": {
            "text/plain": [
              "0"
            ]
          },
          "metadata": {
            "tags": []
          },
          "execution_count": 38
        }
      ]
    },
    {
      "cell_type": "code",
      "metadata": {
        "id": "hoMwA6PlbaJZ",
        "outputId": "e0f3ca50-70fe-489a-fc78-245e4ee62f06",
        "colab": {
          "base_uri": "https://localhost:8080/",
          "height": 34
        }
      },
      "source": [
        "np.isnan(x_test).sum()"
      ],
      "execution_count": 39,
      "outputs": [
        {
          "output_type": "execute_result",
          "data": {
            "text/plain": [
              "0"
            ]
          },
          "metadata": {
            "tags": []
          },
          "execution_count": 39
        }
      ]
    },
    {
      "cell_type": "code",
      "metadata": {
        "id": "_mCUUDEibaLu"
      },
      "source": [
        "# You need to make sure that your Image is cast into double/float from int before you do this scaling \n",
        "# as you will most likely generate floating point numbers.\n",
        "# And had it been int, the values will be truncated to zero.\n",
        "# DATASET CONTAINS VALUES BETWEEN 0-225.WE NORMALISING THE DATA BY DIVIDING WITH 225\n",
        "x_train = x_train.astype('float32') / 255.\n",
        "\n",
        "x_test = x_test.astype('float32') / 255.      \n"
      ],
      "execution_count": 40,
      "outputs": []
    },
    {
      "cell_type": "code",
      "metadata": {
        "id": "EE60VwnLjfVu",
        "outputId": "7f47ba86-6bb0-481e-ae4d-0138ad9d1845",
        "colab": {
          "base_uri": "https://localhost:8080/",
          "height": 50
        }
      },
      "source": [
        "# The first parameter in reshape indicates the number of examples.\n",
        "# We pass it as -1, which means that it is an unknown dimension and we want numpy to figure it out.\n",
        "\n",
        "# reshape(examples, height, width, channels)\n",
        "# RESHAPING THE DATA\n",
        "x_train=x_train.reshape(-1,28,28,1)\n",
        "x_test=x_test.reshape(-1,28,28,1)\n",
        "print(x_train.shape)\n",
        "print(x_test.shape)"
      ],
      "execution_count": 41,
      "outputs": [
        {
          "output_type": "stream",
          "text": [
            "(60000, 28, 28, 1)\n",
            "(10000, 28, 28, 1)\n"
          ],
          "name": "stdout"
        }
      ]
    },
    {
      "cell_type": "code",
      "metadata": {
        "id": "s7qpZilVjfXh"
      },
      "source": [
        "from keras.utils import to_categorical\n",
        "y_train = keras.utils.to_categorical(y_train, 10)\n",
        "y_test = keras.utils.to_categorical(y_test, 10)"
      ],
      "execution_count": 42,
      "outputs": []
    },
    {
      "cell_type": "code",
      "metadata": {
        "id": "B-ngMktljfah",
        "outputId": "1ea3c786-4d07-4aa5-e468-75aa45994ec1",
        "colab": {
          "base_uri": "https://localhost:8080/",
          "height": 50
        }
      },
      "source": [
        "print(y_train.shape)\n",
        "print(y_test.shape)"
      ],
      "execution_count": 43,
      "outputs": [
        {
          "output_type": "stream",
          "text": [
            "(60000, 10)\n",
            "(10000, 10)\n"
          ],
          "name": "stdout"
        }
      ]
    },
    {
      "cell_type": "code",
      "metadata": {
        "id": "r-A9H2tKjfcK"
      },
      "source": [
        "# Building a ConvNet\n",
        "model = Sequential()\n",
        "model.add(Convolution2D(filters=32, kernel_size=(3, 3), activation='relu', strides=1, padding='same', \n",
        "                 data_format='channels_last', input_shape=(28,28,1)))\n",
        "model.add(BatchNormalization())\n",
        "\n",
        "model.add(Convolution2D(filters=32, kernel_size=(3, 3), activation='relu', strides=1, padding='same', \n",
        "                 data_format='channels_last'))\n",
        "model.add(BatchNormalization())\n",
        "model.add(Dropout(0.25))\n",
        "\n",
        "model.add(Convolution2D(filters=64, kernel_size=(3, 3), activation='relu', strides=1, padding='same', \n",
        "                 data_format='channels_last'))\n",
        "model.add(MaxPooling2D(pool_size=(2, 2)))\n",
        "model.add(Dropout(0.25))\n",
        "    \n",
        "    \n",
        "model.add(Convolution2D(filters=128, kernel_size=(3, 3), activation='relu', strides=1, padding='same', \n",
        "                 data_format='channels_last'))\n",
        "model.add(BatchNormalization())\n",
        "model.add(Dropout(0.25))\n",
        "\n",
        "model.add(Flatten())\n",
        "model.add(Dense(512, activation='relu'))\n",
        "model.add(BatchNormalization())\n",
        "model.add(Dropout(0.5))\n",
        "model.add(Dense(128, activation='relu'))\n",
        "model.add(BatchNormalization())\n",
        "model.add(Dropout(0.5))\n",
        "model.add(Dense(10, activation='softmax'))"
      ],
      "execution_count": 45,
      "outputs": []
    },
    {
      "cell_type": "code",
      "metadata": {
        "id": "DzWSs0gAjfff"
      },
      "source": [
        "#Compiling the Model\n",
        "# We need to compile the model. We have to specify the optimizer used by the model We have many choices like Adam, RMSprop etc.. Refer to Keras doc for a comprehensive list of the optimizers available.\n",
        "\n",
        "# Next we need to specify the loss function for the neural network which we want to minimize.\n",
        "\n",
        "#For Binary Classification we use \"binary_crossentropy\" and for Multi-class Classification we use \"categorical_crossentropy\".\n",
        "\n",
        "# Optimizer\n",
        "optimizer = Adam(lr=0.001, beta_1=0.9, beta_2=0.999 )\n",
        "\n",
        "# Compiling the model\n",
        "model.compile(optimizer=optimizer, loss=\"categorical_crossentropy\", metrics=[\"accuracy\"])"
      ],
      "execution_count": 46,
      "outputs": []
    },
    {
      "cell_type": "code",
      "metadata": {
        "id": "ax1URyV0jfhO",
        "outputId": "4d21d32c-ed0d-4fd1-84f6-3797b2bdd6a0",
        "colab": {
          "base_uri": "https://localhost:8080/",
          "height": 790
        }
      },
      "source": [
        "model.summary()"
      ],
      "execution_count": 47,
      "outputs": [
        {
          "output_type": "stream",
          "text": [
            "Model: \"sequential_1\"\n",
            "_________________________________________________________________\n",
            "Layer (type)                 Output Shape              Param #   \n",
            "=================================================================\n",
            "conv2d (Conv2D)              (None, 28, 28, 32)        320       \n",
            "_________________________________________________________________\n",
            "batch_normalization (BatchNo (None, 28, 28, 32)        128       \n",
            "_________________________________________________________________\n",
            "conv2d_1 (Conv2D)            (None, 28, 28, 32)        9248      \n",
            "_________________________________________________________________\n",
            "batch_normalization_1 (Batch (None, 28, 28, 32)        128       \n",
            "_________________________________________________________________\n",
            "dropout (Dropout)            (None, 28, 28, 32)        0         \n",
            "_________________________________________________________________\n",
            "conv2d_2 (Conv2D)            (None, 28, 28, 64)        18496     \n",
            "_________________________________________________________________\n",
            "max_pooling2d (MaxPooling2D) (None, 14, 14, 64)        0         \n",
            "_________________________________________________________________\n",
            "dropout_1 (Dropout)          (None, 14, 14, 64)        0         \n",
            "_________________________________________________________________\n",
            "conv2d_3 (Conv2D)            (None, 14, 14, 128)       73856     \n",
            "_________________________________________________________________\n",
            "batch_normalization_2 (Batch (None, 14, 14, 128)       512       \n",
            "_________________________________________________________________\n",
            "dropout_2 (Dropout)          (None, 14, 14, 128)       0         \n",
            "_________________________________________________________________\n",
            "flatten (Flatten)            (None, 25088)             0         \n",
            "_________________________________________________________________\n",
            "dense (Dense)                (None, 512)               12845568  \n",
            "_________________________________________________________________\n",
            "batch_normalization_3 (Batch (None, 512)               2048      \n",
            "_________________________________________________________________\n",
            "dropout_3 (Dropout)          (None, 512)               0         \n",
            "_________________________________________________________________\n",
            "dense_1 (Dense)              (None, 128)               65664     \n",
            "_________________________________________________________________\n",
            "batch_normalization_4 (Batch (None, 128)               512       \n",
            "_________________________________________________________________\n",
            "dropout_4 (Dropout)          (None, 128)               0         \n",
            "_________________________________________________________________\n",
            "dense_2 (Dense)              (None, 10)                1290      \n",
            "=================================================================\n",
            "Total params: 13,017,770\n",
            "Trainable params: 13,016,106\n",
            "Non-trainable params: 1,664\n",
            "_________________________________________________________________\n"
          ],
          "name": "stdout"
        }
      ]
    },
    {
      "cell_type": "code",
      "metadata": {
        "id": "Pccb4d-0jfkS"
      },
      "source": [
        "#Learning Rate Decay\n",
        "#The Learning rate should be properly tuned , such that it is not too high to take very large steps,\n",
        "   #neither it should be too small , which would not alter the Weights and Biases.\n",
        "#We will use LearningRateScheduler here, which takes the step decay function as argument and return the \n",
        "#updated learning rates for use in optimzer at every epoch stage. Basically it outputs a new learning rate at every epoch stage.\n",
        "\n",
        "from keras.callbacks import ReduceLROnPlateau, LearningRateScheduler\n",
        "reduce_lr = LearningRateScheduler(lambda x: 1e-3 * 0.9 ** x)"
      ],
      "execution_count": 49,
      "outputs": []
    },
    {
      "cell_type": "code",
      "metadata": {
        "id": "4swKZxmM0MAV"
      },
      "source": [
        "from keras.preprocessing.image import ImageDataGenerator\n",
        "train_generator = ImageDataGenerator(rescale = 1/255,\n",
        "                                     zoom_range = 0.3,\n",
        "                                     horizontal_flip = True,\n",
        "                                     rotation_range = 30)\n",
        "\n",
        "test_generator = ImageDataGenerator(rescale = 1/255)\n",
        "\n",
        "train_generator = train_generator.flow(np.array(x_train),\n",
        "                                       y_train,\n",
        "                                       batch_size = 64,\n",
        "                                       shuffle = False)\n",
        "\n",
        "test_generator = test_generator.flow(np.array(x_test),\n",
        "                                     y_test,\n",
        "                                     batch_size = 64,\n",
        "                                     shuffle = False)"
      ],
      "execution_count": 77,
      "outputs": []
    },
    {
      "cell_type": "code",
      "metadata": {
        "id": "NxrF4VBUjfnA",
        "outputId": "9825ac5a-ed6b-414c-dac7-b7c221df273c",
        "colab": {
          "base_uri": "https://localhost:8080/",
          "height": 689
        }
      },
      "source": [
        "#fiting our model to the data\n",
        "history = model.fit(train_generator,validation_data=test_generator,\n",
        "          batch_size=64,\n",
        "          epochs=20,\n",
        "          verbose=1,\n",
        "          callbacks=[reduce_lr])"
      ],
      "execution_count": 81,
      "outputs": [
        {
          "output_type": "stream",
          "text": [
            "Epoch 1/20\n",
            "938/938 [==============================] - 19s 20ms/step - loss: 0.9004 - accuracy: 0.7019 - val_loss: 0.4353 - val_accuracy: 0.8455\n",
            "Epoch 2/20\n",
            "938/938 [==============================] - 19s 20ms/step - loss: 0.6131 - accuracy: 0.7767 - val_loss: 0.4114 - val_accuracy: 0.8568\n",
            "Epoch 3/20\n",
            "938/938 [==============================] - 19s 20ms/step - loss: 0.5582 - accuracy: 0.7983 - val_loss: 2.0410 - val_accuracy: 0.6023\n",
            "Epoch 4/20\n",
            "938/938 [==============================] - 19s 20ms/step - loss: 0.5217 - accuracy: 0.8122 - val_loss: 0.4023 - val_accuracy: 0.8572\n",
            "Epoch 5/20\n",
            "938/938 [==============================] - 19s 20ms/step - loss: 0.4882 - accuracy: 0.8232 - val_loss: 0.5590 - val_accuracy: 0.8148\n",
            "Epoch 6/20\n",
            "938/938 [==============================] - 19s 21ms/step - loss: 0.4676 - accuracy: 0.8312 - val_loss: 0.3279 - val_accuracy: 0.8804\n",
            "Epoch 7/20\n",
            "938/938 [==============================] - 19s 20ms/step - loss: 0.4523 - accuracy: 0.8382 - val_loss: 0.3385 - val_accuracy: 0.8785\n",
            "Epoch 8/20\n",
            "938/938 [==============================] - 19s 20ms/step - loss: 0.4370 - accuracy: 0.8430 - val_loss: 0.3564 - val_accuracy: 0.8743\n",
            "Epoch 9/20\n",
            "938/938 [==============================] - 19s 21ms/step - loss: 0.4264 - accuracy: 0.8470 - val_loss: 0.3145 - val_accuracy: 0.8871\n",
            "Epoch 10/20\n",
            "938/938 [==============================] - 19s 21ms/step - loss: 0.4163 - accuracy: 0.8516 - val_loss: 0.3497 - val_accuracy: 0.8824\n",
            "Epoch 11/20\n",
            "938/938 [==============================] - 19s 20ms/step - loss: 0.4057 - accuracy: 0.8530 - val_loss: 0.3468 - val_accuracy: 0.8803\n",
            "Epoch 12/20\n",
            "938/938 [==============================] - 19s 20ms/step - loss: 0.3998 - accuracy: 0.8560 - val_loss: 0.2995 - val_accuracy: 0.8906\n",
            "Epoch 13/20\n",
            "938/938 [==============================] - 19s 20ms/step - loss: 0.3931 - accuracy: 0.8582 - val_loss: 0.3313 - val_accuracy: 0.8840\n",
            "Epoch 14/20\n",
            "938/938 [==============================] - 19s 20ms/step - loss: 0.3868 - accuracy: 0.8606 - val_loss: 0.3254 - val_accuracy: 0.8844\n",
            "Epoch 15/20\n",
            "938/938 [==============================] - 19s 21ms/step - loss: 0.3868 - accuracy: 0.8602 - val_loss: 0.2944 - val_accuracy: 0.8960\n",
            "Epoch 16/20\n",
            "938/938 [==============================] - 19s 20ms/step - loss: 0.3786 - accuracy: 0.8646 - val_loss: 0.3255 - val_accuracy: 0.8867\n",
            "Epoch 17/20\n",
            "938/938 [==============================] - 19s 20ms/step - loss: 0.3776 - accuracy: 0.8649 - val_loss: 0.3436 - val_accuracy: 0.8811\n",
            "Epoch 18/20\n",
            "938/938 [==============================] - 19s 20ms/step - loss: 0.3721 - accuracy: 0.8666 - val_loss: 0.3001 - val_accuracy: 0.8929\n",
            "Epoch 19/20\n",
            "938/938 [==============================] - 19s 20ms/step - loss: 0.3713 - accuracy: 0.8673 - val_loss: 0.3925 - val_accuracy: 0.8673\n",
            "Epoch 20/20\n",
            "938/938 [==============================] - 19s 20ms/step - loss: 0.3692 - accuracy: 0.8682 - val_loss: 0.3670 - val_accuracy: 0.8682\n"
          ],
          "name": "stdout"
        }
      ]
    },
    {
      "cell_type": "code",
      "metadata": {
        "id": "4AE9Kg6TmqTd",
        "outputId": "5b7b4f8f-f3f7-4097-95f7-ddb22bbf1922",
        "colab": {
          "base_uri": "https://localhost:8080/",
          "height": 295
        }
      },
      "source": [
        "# PLOTING THE MODEL LOSS FOR NO OF EPOCH\n",
        "plt.plot(history.history['loss'])\n",
        "plt.plot(history.history['val_loss'])\n",
        "plt.title('model loss')\n",
        "plt.ylabel('accuracy')\n",
        "plt.xlabel('epoch')\n",
        "plt.legend(['train', 'val'], loc='upper left')\n",
        "plt.show()"
      ],
      "execution_count": 82,
      "outputs": [
        {
          "output_type": "display_data",
          "data": {
            "image/png": "[encoded data removed]",
            "text/plain": [
              "<Figure size 432x288 with 1 Axes>"
            ]
          },
          "metadata": {
            "tags": [],
            "needs_background": "light"
          }
        }
      ]
    },
    {
      "cell_type": "code",
      "metadata": {
        "id": "1XbEZzFLmqVO",
        "outputId": "ef679d51-a632-4d86-d798-1d2de8dddbef",
        "colab": {
          "base_uri": "https://localhost:8080/",
          "height": 295
        }
      },
      "source": [
        "plt.plot(history.history['accuracy'])\n",
        "plt.plot(history.history['val_accuracy'])\n",
        "plt.title(\"Model Accuracy\")\n",
        "plt.xlabel('Epochs')\n",
        "plt.ylabel('Accuracy')\n",
        "plt.legend(['Train', 'Test'])\n",
        "plt.show()"
      ],
      "execution_count": 84,
      "outputs": [
        {
          "output_type": "display_data",
          "data": {
            "image/png": "[encoded data removed]",
            "text/plain": [
              "<Figure size 432x288 with 1 Axes>"
            ]
          },
          "metadata": {
            "tags": [],
            "needs_background": "light"
          }
        }
      ]
    },
    {
      "cell_type": "code",
      "metadata": {
        "id": "dENjqeLFmqYa"
      },
      "source": [
        "preds=model.predict(x_test)"
      ],
      "execution_count": 86,
      "outputs": []
    },
    {
      "cell_type": "code",
      "metadata": {
        "id": "Oa8VqeEEmqaA"
      },
      "source": [
        "from sklearn.metrics import classification_report,accuracy_score\n",
        "\n",
        "y_preds = np.argmax(preds, axis=1)\n",
        "y_true = np.argmax(y_test, axis=1)"
      ],
      "execution_count": 87,
      "outputs": []
    },
    {
      "cell_type": "code",
      "metadata": {
        "id": "KRoSk9bSmqdN",
        "outputId": "86ee8466-d4eb-454d-9695-068226ea33d8",
        "colab": {
          "base_uri": "https://localhost:8080/",
          "height": 302
        }
      },
      "source": [
        "print(classification_report(y_pred=y_preds,y_true=y_true,target_names=['T-shirt/Top','Trouser','Pullover','Dress','Coat','Sandal','Shirt','Sneaker','Bag','Ankle Boot']))"
      ],
      "execution_count": 90,
      "outputs": [
        {
          "output_type": "stream",
          "text": [
            "              precision    recall  f1-score   support\n",
            "\n",
            " T-shirt/Top       0.85      0.56      0.68      1000\n",
            "     Trouser       0.83      0.95      0.88      1000\n",
            "    Pullover       0.64      0.66      0.65      1000\n",
            "       Dress       0.98      0.18      0.30      1000\n",
            "        Coat       0.46      0.90      0.61      1000\n",
            "      Sandal       0.72      0.98      0.83      1000\n",
            "       Shirt       0.52      0.12      0.20      1000\n",
            "     Sneaker       1.00      0.35      0.52      1000\n",
            "         Bag       0.64      0.98      0.77      1000\n",
            "  Ankle Boot       0.63      0.95      0.76      1000\n",
            "\n",
            "    accuracy                           0.66     10000\n",
            "   macro avg       0.73      0.66      0.62     10000\n",
            "weighted avg       0.73      0.66      0.62     10000\n",
            "\n"
          ],
          "name": "stdout"
        }
      ]
    },
    {
      "cell_type": "code",
      "metadata": {
        "id": "YiLXLbzTmqf_",
        "outputId": "b3a8b77c-c4a3-467f-be1d-c58feeb530ee",
        "colab": {
          "base_uri": "https://localhost:8080/",
          "height": 640
        }
      },
      "source": [
        "from mlxtend.plotting import plot_confusion_matrix\n",
        "from sklearn.metrics import confusion_matrix\n",
        "mat=confusion_matrix(y_true,y_preds)\n",
        "plot_confusion_matrix(mat,figsize=(10,10))"
      ],
      "execution_count": 95,
      "outputs": [
        {
          "output_type": "execute_result",
          "data": {
            "text/plain": [
              "(<Figure size 720x720 with 1 Axes>,\n",
              " <matplotlib.axes._subplots.AxesSubplot at 0x7f9fe6682b70>)"
            ]
          },
          "metadata": {
            "tags": []
          },
          "execution_count": 95
        },
        {
          "output_type": "display_data",
          "data": {
            "image/png": "[encoded data removed]",
            "text/plain": [
              "<Figure size 720x720 with 1 Axes>"
            ]
          },
          "metadata": {
            "tags": [],
            "needs_background": "light"
          }
        }
      ]
    },
    {
      "cell_type": "code",
      "metadata": {
        "id": "yC9H4VF240tZ"
      },
      "source": [
        ""
      ],
      "execution_count": null,
      "outputs": []
    },
    {
      "cell_type": "code",
      "metadata": {
        "id": "BngPIZVm40wI"
      },
      "source": [
        ""
      ],
      "execution_count": null,
      "outputs": []
    },
    {
      "cell_type": "code",
      "metadata": {
        "id": "X_lIKVan40yw"
      },
      "source": [
        ""
      ],
      "execution_count": null,
      "outputs": []
    },
    {
      "cell_type": "code",
      "metadata": {
        "id": "lJ49O3IW401N"
      },
      "source": [
        ""
      ],
      "execution_count": null,
      "outputs": []
    }
  ]
}